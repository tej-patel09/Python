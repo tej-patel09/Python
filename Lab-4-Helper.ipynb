{
 "cells": [
  {
   "cell_type": "markdown",
   "metadata": {
    "id": "xf_AUfhScqtA"
   },
   "source": [
    "\n",
    "<a href='https://www.darshan.ac.in/'> <img src='https://www.darshan.ac.in/Content/media/DU_Logo.svg' width=\"250\" height=\"300\"/></a>\n",
    "<pre>\n",
    "<center><b><h1>Python Programming - 2101CS405</b></center>\n",
    "<center><b><h1>Lab - 4</b></center>    \n",
    "<pre>"
   ]
  },
  {
   "cell_type": "markdown",
   "metadata": {},
   "source": [
    "### Some String Methods"
   ]
  },
  {
   "cell_type": "code",
   "execution_count": 4,
   "metadata": {},
   "outputs": [
    {
     "name": "stdout",
     "output_type": "stream",
     "text": [
      "7\n",
      "2\n",
      "Darshan\n",
      "darshan\n",
      "DARSHAN\n",
      "False\n",
      "True\n",
      "False\n"
     ]
    }
   ],
   "source": [
    "s = \"darshan\"\n",
    "c = s.count('a')\n",
    "print(len(s))                            # 7 \n",
    "print(c)                                 # 2 \n",
    "print(s.title())                         # Darshan \n",
    "print(s.lower())                         # darshan \n",
    "print(s.upper())                         # DARSHAN \n",
    "print(s.isupper())                       # False \n",
    "print(s.islower())                       # True \n",
    "print(s.istitle())                       # False "
   ]
  },
  {
   "cell_type": "code",
   "execution_count": 3,
   "metadata": {},
   "outputs": [
    {
     "name": "stdout",
     "output_type": "stream",
     "text": [
      ".    Hello    .\n",
      ".    Hello    .        \n",
      "        .    Hello    .\n",
      "8\n",
      "22\n",
      "-1\n",
      "        .    Good Bye    .        \n"
     ]
    }
   ],
   "source": [
    "x = \"        .    Hello    .        \"\n",
    "print(x.strip())                         # .    Hello    . \n",
    "print(x.lstrip())                        # .    Hello    .         \n",
    "print(x.rstrip())                        #         .    Hello    . \n",
    "print(x.find('.'))                       # 8 \n",
    "print(x.rfind('.'))                      # 22 \n",
    "print(x.find('8'))                       # -1 \n",
    "# print(x.index('8'))                    # generates exception if char not found\n",
    "print(x.replace('Hello', 'Good Bye'))    #         .    Good Bye    .         "
   ]
  },
  {
   "cell_type": "code",
   "execution_count": 2,
   "metadata": {},
   "outputs": [
    {
     "name": "stdout",
     "output_type": "stream",
     "text": [
      "True\n",
      "False\n",
      "False\n",
      "False\n",
      "True\n",
      "False\n",
      "True\n",
      "False\n",
      "False\n"
     ]
    }
   ],
   "source": [
    "print('abc'.isalpha())                   # True \n",
    "print('a12bc'.isalpha())                 # False \n",
    "print('a bc'.isalpha())                  # False \n",
    "print('abc'.isnumeric())                 # False \n",
    "print('123'.isnumeric())                 # True \n",
    "print('12.3'.isnumeric())                # False \n",
    "print('a2bc'.isalnum())                  # True \n",
    "print('a2bc'.isdigit())                  # False \n",
    "print('2.8'.isdigit())                   # False "
   ]
  },
  {
   "cell_type": "markdown",
   "metadata": {
    "id": "GhqeWjx8cqtE"
   },
   "source": [
    "# String"
   ]
  },
  {
   "cell_type": "markdown",
   "metadata": {
    "id": "SXuKJU6fcqtF"
   },
   "source": [
    "### 01) WAP to check given string is palindrome or not."
   ]
  },
  {
   "cell_type": "code",
   "execution_count": null,
   "metadata": {
    "colab": {
     "base_uri": "https://localhost:8080/"
    },
    "executionInfo": {
     "elapsed": 5731,
     "status": "ok",
     "timestamp": 1703918398947,
     "user": {
      "displayName": "Tej Patel",
      "userId": "04032777318747107215"
     },
     "user_tz": -330
    },
    "id": "OLXeyiWccqtG",
    "outputId": "c053321c-802b-45d8-9cbb-979b97bf87b5"
   },
   "outputs": [
    {
     "name": "stdout",
     "output_type": "stream",
     "text": [
      "Enter a string: 12321\n",
      "12321 is a palindrome\n"
     ]
    }
   ],
   "source": []
  },
  {
   "cell_type": "markdown",
   "metadata": {
    "id": "OgtNSmc0cqtH"
   },
   "source": [
    "### 02) WAP to reverse the words in given string."
   ]
  },
  {
   "cell_type": "code",
   "execution_count": 1,
   "metadata": {
    "colab": {
     "base_uri": "https://localhost:8080/"
    },
    "executionInfo": {
     "elapsed": 17177,
     "status": "ok",
     "timestamp": 1705413189948,
     "user": {
      "displayName": "Tej Patel",
      "userId": "04032777318747107215"
     },
     "user_tz": -330
    },
    "id": "Plpg8_7PcqtH",
    "outputId": "96e99dad-e9f3-4233-a123-dabe32b59097"
   },
   "outputs": [
    {
     "name": "stdout",
     "output_type": "stream",
     "text": [
      "Enter a string: hello world bye\n",
      "Original string: hello world bye\n",
      "Reversed string: bye world hello\n"
     ]
    }
   ],
   "source": []
  },
  {
   "cell_type": "markdown",
   "metadata": {
    "id": "0JbIYJ9GcqtI"
   },
   "source": [
    "### 03) WAP to remove ith character from given string"
   ]
  },
  {
   "cell_type": "code",
   "execution_count": 2,
   "metadata": {
    "colab": {
     "base_uri": "https://localhost:8080/"
    },
    "executionInfo": {
     "elapsed": 7929,
     "status": "ok",
     "timestamp": 1705413218545,
     "user": {
      "displayName": "Tej Patel",
      "userId": "04032777318747107215"
     },
     "user_tz": -330
    },
    "id": "T4f8WkuncqtI",
    "outputId": "6380efaa-346b-43af-dc3f-171a3b806dd2"
   },
   "outputs": [
    {
     "name": "stdout",
     "output_type": "stream",
     "text": [
      "Enter a string: hello world\n",
      "Enter the index of character to be removed: 2\n",
      "String after removing 2 th character: helo world\n"
     ]
    }
   ],
   "source": []
  },
  {
   "cell_type": "markdown",
   "metadata": {
    "id": "qUDCdisPcqtJ"
   },
   "source": [
    "### 04) WAP to find length of String without using len function."
   ]
  },
  {
   "cell_type": "code",
   "execution_count": 3,
   "metadata": {
    "colab": {
     "base_uri": "https://localhost:8080/"
    },
    "executionInfo": {
     "elapsed": 14490,
     "status": "ok",
     "timestamp": 1705413290288,
     "user": {
      "displayName": "Tej Patel",
      "userId": "04032777318747107215"
     },
     "user_tz": -330
    },
    "id": "riW5FyAlcqtJ",
    "outputId": "e0140722-247f-4c64-a38b-912eb94aa7a9"
   },
   "outputs": [
    {
     "name": "stdout",
     "output_type": "stream",
     "text": [
      "Enter a string : hello world bye\n",
      "Length of the string is :  15\n"
     ]
    }
   ],
   "source": []
  },
  {
   "cell_type": "markdown",
   "metadata": {
    "id": "5yD9auIwcqtJ"
   },
   "source": [
    "### 05) WAP to print even length word in string."
   ]
  },
  {
   "cell_type": "code",
   "execution_count": 7,
   "metadata": {
    "colab": {
     "base_uri": "https://localhost:8080/"
    },
    "executionInfo": {
     "elapsed": 24884,
     "status": "ok",
     "timestamp": 1705413361732,
     "user": {
      "displayName": "Tej Patel",
      "userId": "04032777318747107215"
     },
     "user_tz": -330
    },
    "id": "ifNSafT2cqtK",
    "outputId": "d92e4bc1-e918-44e5-9f04-048d95f944fd"
   },
   "outputs": [
    {
     "name": "stdout",
     "output_type": "stream",
     "text": [
      "Enter a string: a bb ccc dddd eeeee ffffff\n",
      "bb\n",
      "dddd\n",
      "ffffff\n"
     ]
    }
   ],
   "source": []
  },
  {
   "cell_type": "markdown",
   "metadata": {
    "id": "hKU4BolacqtK"
   },
   "source": [
    "### 06) WAP to count numbers of vowels in given string."
   ]
  },
  {
   "cell_type": "code",
   "execution_count": 10,
   "metadata": {
    "colab": {
     "base_uri": "https://localhost:8080/"
    },
    "executionInfo": {
     "elapsed": 29504,
     "status": "ok",
     "timestamp": 1705413440114,
     "user": {
      "displayName": "Tej Patel",
      "userId": "04032777318747107215"
     },
     "user_tz": -330
    },
    "id": "BvQweLFacqtK",
    "outputId": "d08d65bc-71dc-4c17-835f-b89639d3d837"
   },
   "outputs": [
    {
     "name": "stdout",
     "output_type": "stream",
     "text": [
      "Enter a string: hello world bye\n",
      "The number of vowels in the string is: 4\n"
     ]
    }
   ],
   "source": []
  },
  {
   "cell_type": "markdown",
   "metadata": {
    "id": "PqfnrdsYcqtL"
   },
   "source": [
    "### 07) WAP to convert given array to string."
   ]
  },
  {
   "cell_type": "code",
   "execution_count": 15,
   "metadata": {
    "colab": {
     "base_uri": "https://localhost:8080/"
    },
    "executionInfo": {
     "elapsed": 18026,
     "status": "ok",
     "timestamp": 1705413633136,
     "user": {
      "displayName": "Tej Patel",
      "userId": "04032777318747107215"
     },
     "user_tz": -330
    },
    "id": "ca6XUW5WcqtL",
    "outputId": "c9322466-7dad-420d-f511-a33dec69d5f4"
   },
   "outputs": [
    {
     "name": "stdout",
     "output_type": "stream",
     "text": [
      "Enter array elements in CSV format: 10,20,30,40\n",
      "The array converted to string is :  [10, 20, 30, 40]\n"
     ]
    }
   ],
   "source": []
  },
  {
   "cell_type": "markdown",
   "metadata": {
    "id": "6MyoP5TIcqtL"
   },
   "source": [
    "### 01) WAP to find out duplicate characters in given string."
   ]
  },
  {
   "cell_type": "code",
   "execution_count": 18,
   "metadata": {
    "colab": {
     "base_uri": "https://localhost:8080/"
    },
    "executionInfo": {
     "elapsed": 17572,
     "status": "ok",
     "timestamp": 1705413734631,
     "user": {
      "displayName": "Tej Patel",
      "userId": "04032777318747107215"
     },
     "user_tz": -330
    },
    "id": "OTbpVsVacqtL",
    "outputId": "ac68951a-1dc8-46bb-b9d2-bc93deae1c23"
   },
   "outputs": [
    {
     "name": "stdout",
     "output_type": "stream",
     "text": [
      "Enter a string:helloo world byee \n",
      " \n",
      "o\n",
      "e\n",
      "l\n"
     ]
    }
   ],
   "source": []
  },
  {
   "cell_type": "markdown",
   "metadata": {
    "id": "03Zrp0xGcqtL"
   },
   "source": [
    "### 02) WAP to capitalize the first and last character of each word in a string."
   ]
  },
  {
   "cell_type": "code",
   "execution_count": 19,
   "metadata": {
    "colab": {
     "base_uri": "https://localhost:8080/"
    },
    "executionInfo": {
     "elapsed": 3891,
     "status": "ok",
     "timestamp": 1705413772606,
     "user": {
      "displayName": "Tej Patel",
      "userId": "04032777318747107215"
     },
     "user_tz": -330
    },
    "id": "rEsL7uvVcqtM",
    "outputId": "745d8305-d8f1-45c8-c7c8-7c52f36d9396"
   },
   "outputs": [
    {
     "name": "stdout",
     "output_type": "stream",
     "text": [
      "Enter a string: helloo world byee\n",
      "HelloO WorlD ByeE\n"
     ]
    }
   ],
   "source": []
  },
  {
   "cell_type": "markdown",
   "metadata": {
    "id": "RF4Ip69PcqtM"
   },
   "source": [
    "### 03) WAP to find Maximum frequency character in String."
   ]
  },
  {
   "cell_type": "code",
   "execution_count": 21,
   "metadata": {
    "colab": {
     "base_uri": "https://localhost:8080/"
    },
    "executionInfo": {
     "elapsed": 2312,
     "status": "ok",
     "timestamp": 1705413877015,
     "user": {
      "displayName": "Tej Patel",
      "userId": "04032777318747107215"
     },
     "user_tz": -330
    },
    "id": "EILMhUgHcqtM",
    "outputId": "d7006272-2143-4c37-cdf5-f3038d94345f"
   },
   "outputs": [
    {
     "name": "stdout",
     "output_type": "stream",
     "text": [
      "Enter a string: helloo world byee\n",
      "e l o "
     ]
    }
   ],
   "source": []
  },
  {
   "cell_type": "markdown",
   "metadata": {
    "id": "FF3dhu5pcqtM"
   },
   "source": [
    "### 04) WAP to find Minimum frequency character in String."
   ]
  },
  {
   "cell_type": "code",
   "execution_count": 22,
   "metadata": {
    "colab": {
     "base_uri": "https://localhost:8080/"
    },
    "executionInfo": {
     "elapsed": 8200,
     "status": "ok",
     "timestamp": 1705413947411,
     "user": {
      "displayName": "Tej Patel",
      "userId": "04032777318747107215"
     },
     "user_tz": -330
    },
    "id": "WLtLgs11cqtM",
    "outputId": "09e9328c-3ffc-461a-c288-0ea883e53a50"
   },
   "outputs": [
    {
     "name": "stdout",
     "output_type": "stream",
     "text": [
      "Enter a string: hello world byee\n",
      "Minimum frequency characters in the string are: ['h', 'w', 'r', 'd', 'b', 'y']\n"
     ]
    }
   ],
   "source": []
  },
  {
   "cell_type": "markdown",
   "metadata": {
    "id": "0p2mxZNYcqtN"
   },
   "source": [
    "### 05) WAP to check if a given string is binary string or not"
   ]
  },
  {
   "cell_type": "code",
   "execution_count": 23,
   "metadata": {
    "colab": {
     "base_uri": "https://localhost:8080/"
    },
    "executionInfo": {
     "elapsed": 5058,
     "status": "ok",
     "timestamp": 1705413986947,
     "user": {
      "displayName": "Tej Patel",
      "userId": "04032777318747107215"
     },
     "user_tz": -330
    },
    "id": "5O24i4oBcqtN",
    "outputId": "adb5e8d4-f723-4590-9087-d9e53c206db4"
   },
   "outputs": [
    {
     "name": "stdout",
     "output_type": "stream",
     "text": [
      "Enter a string:101010111\n",
      "It is a binary string\n"
     ]
    }
   ],
   "source": []
  }
 ],
 "metadata": {
  "colab": {
   "provenance": []
  },
  "kernelspec": {
   "display_name": "Python 3 (ipykernel)",
   "language": "python",
   "name": "python3"
  },
  "language_info": {
   "codemirror_mode": {
    "name": "ipython",
    "version": 3
   },
   "file_extension": ".py",
   "mimetype": "text/x-python",
   "name": "python",
   "nbconvert_exporter": "python",
   "pygments_lexer": "ipython3",
   "version": "3.11.5"
  },
  "vscode": {
   "interpreter": {
    "hash": "31f2aee4e71d21fbe5cf8b01ff0e069b9275f58929596ceb00d14d90e3e16cd6"
   }
  }
 },
 "nbformat": 4,
 "nbformat_minor": 1
}
