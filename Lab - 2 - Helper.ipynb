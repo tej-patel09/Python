{
 "cells": [
  {
   "cell_type": "markdown",
   "metadata": {
    "id": "dqf9-Kezzz8r"
   },
   "source": [
    "\n",
    "<a href='https://www.darshan.ac.in/'> <img src='https://www.darshan.ac.in/Content/media/DU_Logo.svg' width=\"250\" height=\"300\"/></a>\n",
    "<pre>\n",
    "<center><b><h1>Python Programming - 2101CS405</b></center>\n",
    "<center><b><h1>Lab - 2</b></center>    \n",
    "<pre>"
   ]
  },
  {
   "cell_type": "code",
   "execution_count": null,
   "metadata": {},
   "outputs": [],
   "source": [
    "num = int(input(\"Enter a number: \"))\n",
    "if num > 0:\n",
    "    print(f\"{num} is a positive number\")\n",
    "elif num < 0:\n",
    "    print(f\"{num} is a negative number\")\n",
    "else:\n",
    "    print(f\"{num} is 0\")\n",
    "\n",
    "num1 = int(input(\"Enter first number: \"))\n",
    "num2 = int(input(\"Enter second number: \"))\n",
    "if num1 > num2:\n",
    "    print(f\"{num1} is larger\")\n",
    "else:\n",
    "    print(f\"{num2} is larger\")\n",
    "\n",
    "\n",
    "print(f\"Larger number is {num1 if num1 > num2 else num2}\")  # <-- ternarary operator\n",
    "\n",
    "\n",
    "a=int(input(\"Enter a number\"))\n",
    "if(a>0):\n",
    "    print(\"yes\")\n",
    "elif(a==0):\n",
    "    print(\"0\")\n",
    "else:\n",
    "    print(\"No\")\n",
    "# && -> and(python)    || -> or(python) \n",
    "print(\"Yes\") if(a>0) else print(\"NO\") # <-- ternarary operator"
   ]
  },
  {
   "cell_type": "markdown",
   "metadata": {
    "id": "amqFQj5hzz8_"
   },
   "source": [
    "# if..else.."
   ]
  },
  {
   "cell_type": "markdown",
   "metadata": {
    "id": "14uJ4hxHzz8_"
   },
   "source": [
    "### 01) WAP to check whether the given number is positive or negative."
   ]
  },
  {
   "cell_type": "code",
   "execution_count": 1,
   "metadata": {
    "colab": {
     "base_uri": "https://localhost:8080/",
     "height": 0
    },
    "executionInfo": {
     "elapsed": 5048,
     "status": "ok",
     "timestamp": 1702649380606,
     "user": {
      "displayName": "Tej Patel",
      "userId": "04032777318747107215"
     },
     "user_tz": -330
    },
    "id": "Qb0iiYaaz3mC",
    "outputId": "aa60b324-d4fe-4647-aaa3-5f1388b13c93"
   },
   "outputs": [
    {
     "name": "stdout",
     "output_type": "stream",
     "text": [
      "Enter a number: 50\n",
      "50 is a positive number\n"
     ]
    }
   ],
   "source": []
  },
  {
   "cell_type": "markdown",
   "metadata": {
    "id": "Xjnws0Kazz9A"
   },
   "source": [
    "### 02) WAP to check whether the given number is odd or even"
   ]
  },
  {
   "cell_type": "code",
   "execution_count": 3,
   "metadata": {
    "colab": {
     "base_uri": "https://localhost:8080/",
     "height": 0
    },
    "executionInfo": {
     "elapsed": 3331,
     "status": "ok",
     "timestamp": 1702649406638,
     "user": {
      "displayName": "Tej Patel",
      "userId": "04032777318747107215"
     },
     "user_tz": -330
    },
    "id": "_q_5-6Huzz9A",
    "outputId": "1c1522dd-8ecf-477b-ecd1-9bc7a420a2ca"
   },
   "outputs": [
    {
     "name": "stdout",
     "output_type": "stream",
     "text": [
      "Enter a number: 5\n",
      "5 is odd\n"
     ]
    }
   ],
   "source": []
  },
  {
   "cell_type": "markdown",
   "metadata": {
    "id": "ckJSmu2jzz9A"
   },
   "source": [
    "### 03) WAP to find out largest number from given two numbers using simple if and ternary operator."
   ]
  },
  {
   "cell_type": "code",
   "execution_count": 5,
   "metadata": {
    "colab": {
     "base_uri": "https://localhost:8080/",
     "height": 0
    },
    "executionInfo": {
     "elapsed": 6723,
     "status": "ok",
     "timestamp": 1702649514035,
     "user": {
      "displayName": "Tej Patel",
      "userId": "04032777318747107215"
     },
     "user_tz": -330
    },
    "id": "SZbAat5mzz9A",
    "outputId": "bb9e2198-0c18-4b80-e603-5637cc228122"
   },
   "outputs": [
    {
     "name": "stdout",
     "output_type": "stream",
     "text": [
      "Enter first number: 7\n",
      "Enter second number: 9\n",
      "9 is larger\n",
      "Larger number is 9\n"
     ]
    }
   ],
   "source": []
  },
  {
   "cell_type": "markdown",
   "metadata": {
    "id": "2HNTxNmQzz9B"
   },
   "source": [
    "### 04) WAP to find out largest number from given three numbers."
   ]
  },
  {
   "cell_type": "code",
   "execution_count": 6,
   "metadata": {
    "colab": {
     "base_uri": "https://localhost:8080/",
     "height": 0
    },
    "executionInfo": {
     "elapsed": 9774,
     "status": "ok",
     "timestamp": 1702649580416,
     "user": {
      "displayName": "Tej Patel",
      "userId": "04032777318747107215"
     },
     "user_tz": -330
    },
    "id": "2hyj1AO60ihW",
    "outputId": "eecf91ac-909f-4486-a959-c70927f07b0b"
   },
   "outputs": [
    {
     "name": "stdout",
     "output_type": "stream",
     "text": [
      "Enter first number: 4\n",
      "Enter second number: 6\n",
      "Enter third number: 1\n",
      "6 is the largest number\n"
     ]
    }
   ],
   "source": []
  },
  {
   "cell_type": "markdown",
   "metadata": {
    "id": "2FAX-mEjzz9B"
   },
   "source": [
    "### 05) WAP to check whether the given year is leap year or not.\n",
    "[If a year can be divisible by 4 but not divisible by 100 then it is leap year but if it is divisible by 400 then it is leap year]"
   ]
  },
  {
   "cell_type": "code",
   "execution_count": 9,
   "metadata": {
    "colab": {
     "base_uri": "https://localhost:8080/",
     "height": 0
    },
    "executionInfo": {
     "elapsed": 3823,
     "status": "ok",
     "timestamp": 1702649658422,
     "user": {
      "displayName": "Tej Patel",
      "userId": "04032777318747107215"
     },
     "user_tz": -330
    },
    "id": "kISMSSJk01lt",
    "outputId": "4a5eab0d-2061-4b81-e2d2-4ca188def8e3"
   },
   "outputs": [
    {
     "name": "stdout",
     "output_type": "stream",
     "text": [
      "Enter a year: 1900\n",
      "1900 is not a leap year\n"
     ]
    }
   ],
   "source": []
  },
  {
   "cell_type": "code",
   "execution_count": 2,
   "metadata": {},
   "outputs": [
    {
     "name": "stdout",
     "output_type": "stream",
     "text": [
      "Enter a year: 2000\n",
      "2000 is a leap year\n"
     ]
    }
   ],
   "source": []
  },
  {
   "cell_type": "markdown",
   "metadata": {
    "id": "fRQUH6nczz9B"
   },
   "source": [
    "### 06) WAP in python to display the name of the day according to the number given by the user"
   ]
  },
  {
   "cell_type": "code",
   "execution_count": 25,
   "metadata": {
    "colab": {
     "base_uri": "https://localhost:8080/",
     "height": 0
    },
    "executionInfo": {
     "elapsed": 3736,
     "status": "ok",
     "timestamp": 1702650513776,
     "user": {
      "displayName": "Tej Patel",
      "userId": "04032777318747107215"
     },
     "user_tz": -330
    },
    "id": "4SKYbYb139rl",
    "outputId": "8298c8b6-4712-47a1-9ce2-789bd87104bd"
   },
   "outputs": [
    {
     "name": "stdout",
     "output_type": "stream",
     "text": [
      "Enter a number : 8\n",
      "Monday\n"
     ]
    }
   ],
   "source": []
  },
  {
   "cell_type": "markdown",
   "metadata": {
    "id": "ApOMehFMzz9C"
   },
   "source": [
    "### 07) WAP to implement simple calculator which performs (add,sub,mul,div) of two no. based on user input."
   ]
  },
  {
   "cell_type": "code",
   "execution_count": 21,
   "metadata": {
    "colab": {
     "base_uri": "https://localhost:8080/",
     "height": 0
    },
    "executionInfo": {
     "elapsed": 13645,
     "status": "ok",
     "timestamp": 1702650379425,
     "user": {
      "displayName": "Tej Patel",
      "userId": "04032777318747107215"
     },
     "user_tz": -330
    },
    "id": "hMy_AVZ_3kDU",
    "outputId": "2eabe310-fc88-4e16-ef6f-a0cd5d3e1ac1"
   },
   "outputs": [
    {
     "name": "stdout",
     "output_type": "stream",
     "text": [
      "Enter first number: 2\n",
      "Enter second number: 6\n",
      "Select your operation:\n",
      "1. Addition(+)\n",
      "2. Subtraction(-)\n",
      "3. Multiplication(*)\n",
      "4. Division(/)\n",
      "Enter your choice: 2\n",
      "Result: -4.0\n"
     ]
    }
   ],
   "source": []
  },
  {
   "cell_type": "markdown",
   "metadata": {
    "id": "beQsSWGnzz9C"
   },
   "source": [
    "### 08) WAP to calculate electricity bill based on following criteria. Which takes the unit from the user.\n",
    "a. First 1 to 50 units – Rs. 2.60/unit</br>\n",
    "b. Next 50 to 100 units – Rs. 3.25/unit</br>\n",
    "c. Next 100 to 200 units – Rs. 5.26/unit</br>\n",
    "d. above 200 units – Rs. 8.45/unit"
   ]
  },
  {
   "cell_type": "code",
   "execution_count": 3,
   "metadata": {
    "colab": {
     "base_uri": "https://localhost:8080/",
     "height": 0
    },
    "executionInfo": {
     "elapsed": 3180,
     "status": "ok",
     "timestamp": 1702651059782,
     "user": {
      "displayName": "Tej Patel",
      "userId": "04032777318747107215"
     },
     "user_tz": -330
    },
    "id": "oWRXr0uLzz9C",
    "outputId": "1526301b-f902-49fa-cecd-0e0a7b7a9dda"
   },
   "outputs": [
    {
     "name": "stdout",
     "output_type": "stream",
     "text": [
      "Enter the number of units consumed: 234\n",
      "electricity bill is Rs. 1105.80\n"
     ]
    }
   ],
   "source": []
  },
  {
   "cell_type": "markdown",
   "metadata": {
    "id": "Tib4ASyCzz9C"
   },
   "source": [
    "### 01) WAP to read marks of five subjects. Calculate percentage and print class accordingly.\n",
    "Fail below 35 </br>\n",
    "Pass Class between 35 to 45 </br>\n",
    "Second Class</br>\n",
    "between 45 to 60</br>\n",
    "First Class between 60 to 70</br>\n",
    "Distinction if more than 70"
   ]
  },
  {
   "cell_type": "code",
   "execution_count": 11,
   "metadata": {
    "colab": {
     "base_uri": "https://localhost:8080/",
     "height": 0
    },
    "executionInfo": {
     "elapsed": 11421,
     "status": "ok",
     "timestamp": 1702649935800,
     "user": {
      "displayName": "Tej Patel",
      "userId": "04032777318747107215"
     },
     "user_tz": -330
    },
    "id": "K8TjeGFK1mXH",
    "outputId": "42850997-51c0-4bb6-901c-1b96ad03e0a5"
   },
   "outputs": [
    {
     "name": "stdout",
     "output_type": "stream",
     "text": [
      "Enter marks in physics: 50\n",
      "Enter marks in chemistry: 50\n",
      "Enter marks in mathematics: 50\n",
      "Enter marks in computer: 50\n",
      "Enter marks in english: 50\n",
      "Percentage: 50.00%\n",
      "Second Class\n"
     ]
    }
   ],
   "source": []
  },
  {
   "cell_type": "markdown",
   "metadata": {
    "id": "8qloJeWtzz9D"
   },
   "source": [
    "### 02) WAP to find out the Maximum and Minimum number from given 4 numbers."
   ]
  },
  {
   "cell_type": "code",
   "execution_count": 12,
   "metadata": {
    "colab": {
     "base_uri": "https://localhost:8080/",
     "height": 0
    },
    "executionInfo": {
     "elapsed": 8840,
     "status": "ok",
     "timestamp": 1702650002679,
     "user": {
      "displayName": "Tej Patel",
      "userId": "04032777318747107215"
     },
     "user_tz": -330
    },
    "id": "sqKLkAr7zz9D",
    "outputId": "c063fd08-53b3-4123-f1af-6a248d241795"
   },
   "outputs": [
    {
     "name": "stdout",
     "output_type": "stream",
     "text": [
      "Enter first number: 5\n",
      "Enter second number: 8\n",
      "Enter third number: 6\n",
      "Enter fourth number: 1\n",
      "8 is the largest number\n",
      "1 is the smallest number\n"
     ]
    }
   ],
   "source": [
    "]"
   ]
  },
  {
   "cell_type": "markdown",
   "metadata": {
    "id": "YWAWL2Zhzz9D"
   },
   "source": [
    "### 03) WAP to input an integer number and check the last digit of number is even or odd."
   ]
  },
  {
   "cell_type": "code",
   "execution_count": 22,
   "metadata": {
    "colab": {
     "base_uri": "https://localhost:8080/",
     "height": 0
    },
    "executionInfo": {
     "elapsed": 5148,
     "status": "ok",
     "timestamp": 1702650405539,
     "user": {
      "displayName": "Tej Patel",
      "userId": "04032777318747107215"
     },
     "user_tz": -330
    },
    "id": "6r5ZUUR43pk8",
    "outputId": "c419e2f8-bf00-49c2-fb7c-ea986769643f"
   },
   "outputs": [
    {
     "name": "stdout",
     "output_type": "stream",
     "text": [
      "Enter an integer number: 56\n",
      "The last digit of 56 is even\n"
     ]
    }
   ],
   "source": []
  },
  {
   "cell_type": "markdown",
   "metadata": {
    "id": "chmIy9pfzz9D"
   },
   "source": [
    "### 04) WAP to determine the roots of the equation ax2+bx+c=0."
   ]
  },
  {
   "cell_type": "markdown",
   "metadata": {},
   "source": [
    "<img src=\"https://cdn.programiz.com/sites/tutorial2program/files/roots-of-quadratic-equation_0.png\" height=\"500\" width=\"500\">"
   ]
  },
  {
   "cell_type": "markdown",
   "metadata": {},
   "source": [
    "<img src=\"data:image/png;base64,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\">"
   ]
  },
  {
   "cell_type": "code",
   "execution_count": 16,
   "metadata": {
    "colab": {
     "base_uri": "https://localhost:8080/",
     "height": 0
    },
    "executionInfo": {
     "elapsed": 5565,
     "status": "ok",
     "timestamp": 1702650153785,
     "user": {
      "displayName": "Tej Patel",
      "userId": "04032777318747107215"
     },
     "user_tz": -330
    },
    "id": "Bx2U2o4E2lMV",
    "outputId": "b0e3b652-52e2-4b78-ab08-553691106c80"
   },
   "outputs": [
    {
     "name": "stdout",
     "output_type": "stream",
     "text": [
      "Enter the coefficient of x^2: 1\n",
      "Enter the coefficient of x: 3\n",
      "Enter the constant term: 2\n",
      "two real roots.\n",
      "The roots are -1.00 and -2.00\n"
     ]
    }
   ],
   "source": []
  },
  {
   "cell_type": "code",
   "execution_count": 7,
   "metadata": {},
   "outputs": [
    {
     "name": "stdout",
     "output_type": "stream",
     "text": [
      "Enter the coefficient of x^2: 1\n",
      "Enter the coefficient of x: 4\n",
      "Enter the constant term: 5\n",
      "no real roots.\n",
      "The roots are -2+1i and -2-1i\n"
     ]
    }
   ],
   "source": []
  }
 ],
 "metadata": {
  "colab": {
   "provenance": []
  },
  "kernelspec": {
   "display_name": "Python 3 (ipykernel)",
   "language": "python",
   "name": "python3"
  },
  "language_info": {
   "codemirror_mode": {
    "name": "ipython",
    "version": 3
   },
   "file_extension": ".py",
   "mimetype": "text/x-python",
   "name": "python",
   "nbconvert_exporter": "python",
   "pygments_lexer": "ipython3",
   "version": "3.11.5"
  }
 },
 "nbformat": 4,
 "nbformat_minor": 4
}
